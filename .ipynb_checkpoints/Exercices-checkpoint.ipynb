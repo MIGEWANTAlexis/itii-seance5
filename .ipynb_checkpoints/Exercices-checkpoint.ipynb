{
 "cells": [
  {
   "cell_type": "code",
   "execution_count": 38,
   "metadata": {},
   "outputs": [
    {
     "data": {
      "text/plain": [
       "1220.0"
      ]
     },
     "execution_count": 38,
     "metadata": {},
     "output_type": "execute_result"
    }
   ],
   "source": [
    "## Exo1\n",
    "import sympy\n",
    "\n",
    "f = lambdify(x, 3*x**3+x**2-5) ##Définir une fonction avec sympy\n",
    "\n",
    "def tauxAccroissement(f, a, h):\n",
    "    taux = (f(a+h) - f(a)) / h ##Calcul du taux d'accroissement\n",
    "    return taux\n",
    "\n",
    "tauxAccroissement(f, 10, 3)"
   ]
  },
  {
   "cell_type": "code",
   "execution_count": null,
   "metadata": {},
   "outputs": [],
   "source": [
    "## Exo 4\n",
    "\n",
    "def T(n):\n",
    "    return (n**2-((n-1)**2))\n",
    "\n",
    "def S(n):\n",
    "    res = 0\n",
    "    for i in range(1, n+1):\n",
    "        res = res + T(i)\n",
    "    return res\n",
    "\n",
    "S(3)"
   ]
  },
  {
   "cell_type": "code",
   "execution_count": null,
   "metadata": {},
   "outputs": [],
   "source": [
    "## Exo 5\n",
    "\n",
    "def Un(un):\n",
    "    return 0.5 * un\n",
    "\n",
    "def determiner(e, u0):\n",
    "    i = 1\n",
    "    un = u0\n",
    "    n = 0\n",
    "    \n",
    "    while(i == 1):\n",
    "        un = Un(un)\n",
    "        print(un)\n",
    "        if(un < e):\n",
    "            b = 0\n",
    "        else:\n",
    "            n += 1\n",
    "            \n",
    "    return n\n",
    "\n",
    "determiner(5, 2)"
   ]
  },
  {
   "cell_type": "code",
   "execution_count": null,
   "metadata": {},
   "outputs": [],
   "source": [
    "##Exo 6\n",
    "\n",
    "def catalan(e): \n",
    "    elm1 = 1\n",
    "    elm2 = elm1-1/(32)\n",
    "    signe = 1\n",
    "    val = 5\n",
    "    while abs(elm2 - elm1) > e:\n",
    "       elm1 = elm2\n",
    "       elm2 = elm1 + signe * (1 / (val2))\n",
    "       val += 2\n",
    "       signe *= (-1)\n",
    "    return elm2\n",
    " \n",
    "print(val_app(0.05))"
   ]
  },
  {
   "cell_type": "code",
   "execution_count": null,
   "metadata": {},
   "outputs": [],
   "source": [
    "## Exo 7\n",
    "\n",
    "def limite(e):\n",
    "    U0 = 2\n",
    "    Un = U0 + 2 / U0\n",
    "    while abs(Un - U0) > e:\n",
    "        U0 = Un\n",
    "        Un = U0 + 2 / U0\n",
    "    return Un\n",
    " \n",
    " \n",
    "print(limite(0.05))"
   ]
  },
  {
   "cell_type": "code",
   "execution_count": null,
   "metadata": {},
   "outputs": [],
   "source": []
  },
  {
   "cell_type": "code",
   "execution_count": null,
   "metadata": {},
   "outputs": [],
   "source": []
  },
  {
   "cell_type": "code",
   "execution_count": null,
   "metadata": {},
   "outputs": [],
   "source": []
  },
  {
   "cell_type": "code",
   "execution_count": null,
   "metadata": {},
   "outputs": [],
   "source": []
  },
  {
   "cell_type": "code",
   "execution_count": null,
   "metadata": {},
   "outputs": [],
   "source": []
  }
 ],
 "metadata": {
  "kernelspec": {
   "display_name": "Python 3",
   "language": "python",
   "name": "python3"
  },
  "language_info": {
   "codemirror_mode": {
    "name": "ipython",
    "version": 3
   },
   "file_extension": ".py",
   "mimetype": "text/x-python",
   "name": "python",
   "nbconvert_exporter": "python",
   "pygments_lexer": "ipython3",
   "version": "3.8.3"
  }
 },
 "nbformat": 4,
 "nbformat_minor": 4
}
